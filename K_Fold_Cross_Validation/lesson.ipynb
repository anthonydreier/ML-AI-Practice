{
 "cells": [
  {
   "cell_type": "code",
   "id": "initial_id",
   "metadata": {
    "collapsed": true,
    "ExecuteTime": {
     "end_time": "2025-07-09T23:11:06.309170Z",
     "start_time": "2025-07-09T23:11:06.289896Z"
    }
   },
   "source": [
    "from sklearn.linear_model import LogisticRegression\n",
    "from sklearn.svm import SVC\n",
    "from sklearn.ensemble import RandomForestClassifier\n",
    "import numpy as np\n",
    "from sklearn.datasets import load_digits\n",
    "\n",
    "digits = load_digits()"
   ],
   "outputs": [],
   "execution_count": 117
  },
  {
   "metadata": {
    "ExecuteTime": {
     "end_time": "2025-07-09T23:11:06.330447Z",
     "start_time": "2025-07-09T23:11:06.325748Z"
    }
   },
   "cell_type": "code",
   "source": [
    "from sklearn.model_selection import train_test_split\n",
    "X_train, X_test, y_train, y_test = train_test_split(digits.data, digits.target, test_size=0.5)"
   ],
   "id": "8ac413316fc65f00",
   "outputs": [],
   "execution_count": 118
  },
  {
   "metadata": {
    "ExecuteTime": {
     "end_time": "2025-07-09T23:11:06.429158Z",
     "start_time": "2025-07-09T23:11:06.348595Z"
    }
   },
   "cell_type": "code",
   "source": [
    "lr = LogisticRegression(max_iter=10000)\n",
    "lr.fit(X_train, y_train)\n",
    "lr.score(X_test, y_test)"
   ],
   "id": "565e11596594b969",
   "outputs": [
    {
     "data": {
      "text/plain": [
       "0.9599555061179088"
      ]
     },
     "execution_count": 119,
     "metadata": {},
     "output_type": "execute_result"
    }
   ],
   "execution_count": 119
  },
  {
   "metadata": {
    "ExecuteTime": {
     "end_time": "2025-07-09T23:11:06.590756Z",
     "start_time": "2025-07-09T23:11:06.452203Z"
    }
   },
   "cell_type": "code",
   "source": [
    "svm = SVC()\n",
    "svm.fit(X_train, y_train)\n",
    "print(svm.score(X_test, y_test))\n",
    "\n",
    "#After some reading I've found that the defaults for SVC have changed over the years from gamma='auto' to gamma='scaled'\n",
    "#Interestingly enough, the sources I found also claimed I should always scale data for SVM so I'm gonna try that out.\n",
    "\n",
    "from sklearn.preprocessing import StandardScaler\n",
    "scaler = StandardScaler()\n",
    "X_train_scaled = scaler.fit_transform(X_train)\n",
    "X_test_scaled = scaler.transform(X_test)\n",
    "\n",
    "svm.fit(X_train_scaled, y_train)\n",
    "print(svm.score(X_test_scaled, y_test))"
   ],
   "id": "50e43aa8a0709c8a",
   "outputs": [
    {
     "name": "stdout",
     "output_type": "stream",
     "text": [
      "0.9777530589543938\n",
      "0.9733036707452726\n"
     ]
    }
   ],
   "execution_count": 120
  },
  {
   "metadata": {
    "ExecuteTime": {
     "end_time": "2025-07-09T23:11:06.826200Z",
     "start_time": "2025-07-09T23:11:06.608710Z"
    }
   },
   "cell_type": "code",
   "source": [
    "rf = RandomForestClassifier()\n",
    "rf.fit(X_train, y_train)\n",
    "rf.score(X_test, y_test)"
   ],
   "id": "121fc99af51e5eb0",
   "outputs": [
    {
     "data": {
      "text/plain": [
       "0.96440489432703"
      ]
     },
     "execution_count": 121,
     "metadata": {},
     "output_type": "execute_result"
    }
   ],
   "execution_count": 121
  },
  {
   "metadata": {
    "ExecuteTime": {
     "end_time": "2025-07-09T23:11:06.845900Z",
     "start_time": "2025-07-09T23:11:06.841569Z"
    }
   },
   "cell_type": "code",
   "source": [
    "from sklearn.model_selection import KFold\n",
    "\n",
    "kf = KFold(n_splits=3)\n",
    "\n",
    "kf"
   ],
   "id": "f5071a36b67b8b4a",
   "outputs": [
    {
     "data": {
      "text/plain": [
       "KFold(n_splits=3, random_state=None, shuffle=False)"
      ]
     },
     "execution_count": 122,
     "metadata": {},
     "output_type": "execute_result"
    }
   ],
   "execution_count": 122
  },
  {
   "metadata": {
    "ExecuteTime": {
     "end_time": "2025-07-09T23:11:06.876775Z",
     "start_time": "2025-07-09T23:11:06.872785Z"
    }
   },
   "cell_type": "code",
   "source": [
    "for train_index, test_index in kf.split([0, 1, 2, 3, 4, 5, 6, 7, 9]):\n",
    "    print(train_index, test_index)"
   ],
   "id": "55c3511dbafc80db",
   "outputs": [
    {
     "name": "stdout",
     "output_type": "stream",
     "text": [
      "[3 4 5 6 7 8] [0 1 2]\n",
      "[0 1 2 6 7 8] [3 4 5]\n",
      "[0 1 2 3 4 5] [6 7 8]\n"
     ]
    }
   ],
   "execution_count": 123
  },
  {
   "metadata": {
    "ExecuteTime": {
     "end_time": "2025-07-09T23:11:06.909180Z",
     "start_time": "2025-07-09T23:11:06.905504Z"
    }
   },
   "cell_type": "code",
   "source": [
    "def get_score(model, X_train, X_test, y_train, y_test):\n",
    "    model.fit(X_train, y_train)\n",
    "    return model.score(X_test, y_test)"
   ],
   "id": "8f078927199bde8b",
   "outputs": [],
   "execution_count": 124
  },
  {
   "metadata": {
    "ExecuteTime": {
     "end_time": "2025-07-09T23:11:07.352671Z",
     "start_time": "2025-07-09T23:11:06.933809Z"
    }
   },
   "cell_type": "code",
   "source": [
    "print(get_score(LogisticRegression(max_iter=10000), X_train, X_test, y_train, y_test))\n",
    "print(get_score(RandomForestClassifier(), X_train, X_test, y_train, y_test))\n",
    "print(get_score(SVC(), X_train, X_test, y_train, y_test))"
   ],
   "id": "f02b3009922d50d1",
   "outputs": [
    {
     "name": "stdout",
     "output_type": "stream",
     "text": [
      "0.9599555061179088\n",
      "0.96440489432703\n",
      "0.9777530589543938\n"
     ]
    }
   ],
   "execution_count": 125
  },
  {
   "metadata": {
    "ExecuteTime": {
     "end_time": "2025-07-09T23:11:07.381139Z",
     "start_time": "2025-07-09T23:11:07.378371Z"
    }
   },
   "cell_type": "code",
   "source": "from sklearn.model_selection import StratifiedKFold",
   "id": "bdbc819156ebe0cc",
   "outputs": [],
   "execution_count": 126
  },
  {
   "metadata": {
    "ExecuteTime": {
     "end_time": "2025-07-09T23:11:07.408295Z",
     "start_time": "2025-07-09T23:11:07.404817Z"
    }
   },
   "cell_type": "code",
   "source": "sfk = StratifiedKFold(n_splits=3)",
   "id": "7fd5b3487c2dc452",
   "outputs": [],
   "execution_count": 127
  },
  {
   "metadata": {
    "ExecuteTime": {
     "end_time": "2025-07-09T23:11:08.666288Z",
     "start_time": "2025-07-09T23:11:07.433834Z"
    }
   },
   "cell_type": "code",
   "source": [
    "scores_lr = []\n",
    "scores_svm = []\n",
    "scores_rf = []\n",
    "\n",
    "for train_index, test_index in sfk.split(digits.data, digits.target):\n",
    "    X_train, X_test, y_train, y_test = digits.data[train_index], digits.data[test_index], digits.target[train_index], digits.target[test_index]\n",
    "    scores_lr.append(get_score(LogisticRegression(max_iter=10000), X_train, X_test, y_train, y_test))\n",
    "    scores_svm.append(get_score(SVC(),X_train, X_test, y_train, y_test))\n",
    "    scores_rf.append(get_score(RandomForestClassifier(),X_train, X_test, y_train, y_test))"
   ],
   "id": "c9d329e6fc6a8807",
   "outputs": [],
   "execution_count": 128
  },
  {
   "metadata": {
    "ExecuteTime": {
     "end_time": "2025-07-09T23:11:08.687011Z",
     "start_time": "2025-07-09T23:11:08.684013Z"
    }
   },
   "cell_type": "code",
   "source": [
    "print(scores_lr)\n",
    "print(scores_svm)\n",
    "print(scores_rf)"
   ],
   "id": "461c5b9361494b97",
   "outputs": [
    {
     "name": "stdout",
     "output_type": "stream",
     "text": [
      "[0.9198664440734557, 0.9415692821368948, 0.9165275459098498]\n",
      "[0.9649415692821369, 0.9799666110183639, 0.9649415692821369]\n",
      "[0.9348914858096828, 0.9515859766277128, 0.9298831385642737]\n"
     ]
    }
   ],
   "execution_count": 129
  },
  {
   "metadata": {
    "ExecuteTime": {
     "end_time": "2025-07-09T23:54:19.634373Z",
     "start_time": "2025-07-09T23:54:19.627389Z"
    }
   },
   "cell_type": "code",
   "source": "from sklearn.model_selection import cross_val_score",
   "id": "e2c5447457e52157",
   "outputs": [],
   "execution_count": 130
  },
  {
   "metadata": {
    "ExecuteTime": {
     "end_time": "2025-07-09T23:54:35.085572Z",
     "start_time": "2025-07-09T23:54:34.591917Z"
    }
   },
   "cell_type": "code",
   "source": "cross_val_score(LogisticRegression(max_iter=10000), digits.data, digits.target)",
   "id": "30a6055789eec82e",
   "outputs": [
    {
     "data": {
      "text/plain": [
       "array([0.92222222, 0.87222222, 0.94150418, 0.94150418, 0.89693593])"
      ]
     },
     "execution_count": 133,
     "metadata": {},
     "output_type": "execute_result"
    }
   ],
   "execution_count": 133
  },
  {
   "metadata": {
    "ExecuteTime": {
     "end_time": "2025-07-09T23:54:49.494085Z",
     "start_time": "2025-07-09T23:54:49.205599Z"
    }
   },
   "cell_type": "code",
   "source": "cross_val_score(SVC(), digits.data, digits.target)\n",
   "id": "7460e6b8004c0936",
   "outputs": [
    {
     "data": {
      "text/plain": [
       "array([0.96111111, 0.94444444, 0.98328691, 0.98885794, 0.93871866])"
      ]
     },
     "execution_count": 134,
     "metadata": {},
     "output_type": "execute_result"
    }
   ],
   "execution_count": 134
  },
  {
   "metadata": {
    "ExecuteTime": {
     "end_time": "2025-07-09T23:55:04.823319Z",
     "start_time": "2025-07-09T23:55:03.434549Z"
    }
   },
   "cell_type": "code",
   "source": "cross_val_score(RandomForestClassifier(), digits.data, digits.target)",
   "id": "31f7d7aa5c8229a8",
   "outputs": [
    {
     "data": {
      "text/plain": [
       "array([0.93333333, 0.91388889, 0.9637883 , 0.96657382, 0.92200557])"
      ]
     },
     "execution_count": 135,
     "metadata": {},
     "output_type": "execute_result"
    }
   ],
   "execution_count": 135
  },
  {
   "metadata": {},
   "cell_type": "code",
   "outputs": [],
   "execution_count": null,
   "source": "",
   "id": "b424f7d768b7fde0"
  }
 ],
 "metadata": {
  "kernelspec": {
   "display_name": "Python 3",
   "language": "python",
   "name": "python3"
  },
  "language_info": {
   "codemirror_mode": {
    "name": "ipython",
    "version": 2
   },
   "file_extension": ".py",
   "mimetype": "text/x-python",
   "name": "python",
   "nbconvert_exporter": "python",
   "pygments_lexer": "ipython2",
   "version": "2.7.6"
  }
 },
 "nbformat": 4,
 "nbformat_minor": 5
}
